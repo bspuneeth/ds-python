{
 "cells": [
  {
   "cell_type": "markdown",
   "id": "b570dfda-e247-40a4-8de0-ded7ef67636b",
   "metadata": {},
   "source": [
    "### Python Basics ###"
   ]
  },
  {
   "cell_type": "markdown",
   "id": "d662ebab-7bdc-44a1-a0c0-cc0ff24b9710",
   "metadata": {},
   "source": [
    "Comment in Python"
   ]
  },
  {
   "cell_type": "code",
   "execution_count": 6,
   "id": "174ce5e5-aba6-478d-bae1-724b0d2bf8c2",
   "metadata": {},
   "outputs": [
    {
     "data": {
      "text/plain": [
       "'\\nMulti\\nLine\\nComment\\n'"
      ]
     },
     "execution_count": 6,
     "metadata": {},
     "output_type": "execute_result"
    }
   ],
   "source": [
    "# Single Line Comment\n",
    "\n",
    "'''\n",
    "Multi\n",
    "Line\n",
    "Comment\n",
    "'''"
   ]
  },
  {
   "cell_type": "markdown",
   "id": "06c500b4-6163-4131-930e-5332418ccd48",
   "metadata": {},
   "source": [
    "Identifier:\n",
    "> A Python Identifier is a name used to identify a variable, function, class, module or another object\n",
    "> An identifier starts with a letter A to Z or a to z or an underscore (_) followed by zero or more letters,underscores, and digits (0 to 9)\n",
    "> Python is a case-sensitive programming language\n",
    "> Python does not allow special characters such as @, $, and % within identifiers"
   ]
  },
  {
   "cell_type": "markdown",
   "id": "e748d526-f608-464e-867f-77df853c276f",
   "metadata": {},
   "source": [
    "Variables in Python:\n",
    "\n",
    "> Variables are nothing but reserved memory locations to store values. This means that when you\n",
    "create a variable you reserve some space in memory."
   ]
  },
  {
   "cell_type": "code",
   "execution_count": 25,
   "id": "d2a9d98f-85a8-43d6-8f08-2c31f2d33552",
   "metadata": {},
   "outputs": [
    {
     "name": "stdout",
     "output_type": "stream",
     "text": [
      "John\n",
      "<class 'str'>\n",
      "25\n",
      "<class 'int'>\n",
      "45.5\n",
      "<class 'float'>\n",
      "John 25 45.5\n"
     ]
    }
   ],
   "source": [
    "name = 'John'\n",
    "age = 25\n",
    "salary = 45.50\n",
    "print(name)\n",
    "print(type(name))\n",
    "print(age)\n",
    "print(type(age))\n",
    "print(salary)\n",
    "print(type(salary))\n",
    "\n",
    "print(name, age, salary)"
   ]
  },
  {
   "cell_type": "markdown",
   "id": "1549926f-7f90-48b2-8797-76a52049f827",
   "metadata": {},
   "source": [
    "Data Types:\n",
    "> Immutable Data Types: Values can't be changed\n",
    "    >> Numeric, String, Tuples\n",
    "> Mutable Data Types: Values can be changed\n",
    "    >> Lists, Dictionaries, Sets"
   ]
  },
  {
   "cell_type": "markdown",
   "id": "5003a294-e776-44d4-9868-35449a86c52a",
   "metadata": {},
   "source": [
    "Numeric Data Types:\n",
    "> int, float, complex"
   ]
  },
  {
   "cell_type": "code",
   "execution_count": 27,
   "id": "7a26c941-42ee-415a-af5a-549b212063c3",
   "metadata": {},
   "outputs": [
    {
     "name": "stdout",
     "output_type": "stream",
     "text": [
      "10 10.65 (10+6j)\n"
     ]
    }
   ],
   "source": [
    "a = 10\n",
    "b = 10.65\n",
    "c = 10+6j\n",
    "\n",
    "print(a,b,c)"
   ]
  },
  {
   "cell_type": "markdown",
   "id": "0ce5b05b-1f61-4d53-9f56-ce14f8820f9c",
   "metadata": {},
   "source": [
    "String Data Type:\n",
    "> The continuous set of characters represented within quotation is called as String.\n",
    "> Python allows for either pairs of single or double quotes.\n",
    "> Python does not support a character type, these are treated as strings of length one."
   ]
  },
  {
   "cell_type": "code",
   "execution_count": 33,
   "id": "e193adf1-e293-473d-a3cd-a9920ab3983c",
   "metadata": {},
   "outputs": [
    {
     "name": "stdout",
     "output_type": "stream",
     "text": [
      "Hello Snakes!\n",
      "Python Here\n"
     ]
    }
   ],
   "source": [
    "a = 'Hello Snakes!'\n",
    "b = \"Python Here\"\n",
    "print (a)\n",
    "print (b)"
   ]
  },
  {
   "cell_type": "markdown",
   "id": "22471b4e-1bac-4ce9-82f9-d0b63f7c2779",
   "metadata": {},
   "source": [
    "Tuples Data Type:\n",
    "> Tuples consist of a number of values separated by a comma. It is enclosed within the parenthesis."
   ]
  },
  {
   "cell_type": "code",
   "execution_count": 37,
   "id": "f5c1e382-41a1-43fc-8651-932e2d1e612d",
   "metadata": {},
   "outputs": [
    {
     "name": "stdout",
     "output_type": "stream",
     "text": [
      "(1, 8, 3.15, 'Python', 'Cobra')\n"
     ]
    }
   ],
   "source": [
    "a = (1,8, 3.15, \"Python\", 'Cobra')\n",
    "print(a)"
   ]
  },
  {
   "cell_type": "code",
   "execution_count": null,
   "id": "acbda089-d10f-4e8e-8f33-0bd9f58a451f",
   "metadata": {},
   "outputs": [],
   "source": []
  }
 ],
 "metadata": {
  "kernelspec": {
   "display_name": "Python 3 (ipykernel)",
   "language": "python",
   "name": "python3"
  },
  "language_info": {
   "codemirror_mode": {
    "name": "ipython",
    "version": 3
   },
   "file_extension": ".py",
   "mimetype": "text/x-python",
   "name": "python",
   "nbconvert_exporter": "python",
   "pygments_lexer": "ipython3",
   "version": "3.12.4"
  }
 },
 "nbformat": 4,
 "nbformat_minor": 5
}
