{
 "cells": [
  {
   "cell_type": "markdown",
   "id": "b36ee60b-633d-4d70-9be8-774c46e50326",
   "metadata": {},
   "source": [
    "# Python List/Array Methods"
   ]
  },
  {
   "cell_type": "code",
   "execution_count": 1,
   "id": "04150bc6-3175-40a4-acaf-61a00997bbfa",
   "metadata": {},
   "outputs": [
    {
     "name": "stdout",
     "output_type": "stream",
     "text": [
      "<class 'list'>\n",
      "<class 'tuple'>\n",
      "3\n",
      "5\n",
      "2\n"
     ]
    }
   ],
   "source": [
    "my_list1 = [\"apple\", \"banana\", \"cherry\"]\n",
    "my_list2 = [1, 5, 7, 9, 3]\n",
    "my_list3 = [True, False, False]\n",
    "my_tuple = (\"kiwi\", \"orange\")\n",
    "\n",
    "print(type(my_list1))\n",
    "print(type(my_tuple))\n",
    "print(len(my_list1))\n",
    "print(len(my_list2))\n",
    "print(len(my_tuple))"
   ]
  },
  {
   "cell_type": "markdown",
   "id": "bdab0b18-d398-4cdd-a83b-f06f1d569b42",
   "metadata": {},
   "source": [
    "## Access List Items\n",
    "\n",
    "### [index]\n",
    "> List items are indexed and you can access them by referring to the index number\n",
    "\n",
    "### Negative Indexing [-1]\n",
    "> Negative indexing means start from the end. -1 refers to the last item, -2 refers to the second last item etc.\n",
    "\n",
    "### Range of Indexes\n",
    "> specify a range of indexes by specifying where to start and where to end the range. When specifying a range, the return value will be a new list with the specified items.\n",
    "\n",
    "### Check if Item Exists\n",
    "> To determine if a specified item is present in a list use the in keyword:"
   ]
  },
  {
   "cell_type": "code",
   "execution_count": 2,
   "id": "7c475cf0-8648-44d7-b84c-e8071e494ef3",
   "metadata": {},
   "outputs": [
    {
     "name": "stdout",
     "output_type": "stream",
     "text": [
      "banana\n",
      "3\n",
      "True\n",
      "banana\n",
      "[7, 9, 3]\n",
      "Exists\n"
     ]
    }
   ],
   "source": [
    "print(my_list1[1])\n",
    "print(my_list2[4])\n",
    "print(my_list3[0])\n",
    "\n",
    "print(my_list1[-2])\n",
    "\n",
    "print(my_list2[2:6]) # Returns new array\n",
    "\n",
    "if \"cherry\" in my_list1:\n",
    "    print(\"Exists\")\n"
   ]
  },
  {
   "cell_type": "markdown",
   "id": "f81ff2a3-a463-409b-9c1e-0472b720e463",
   "metadata": {},
   "source": [
    "## Change List Items\n",
    "\n",
    "### Change Item Value\n",
    "> To change the value of a specific item, refer to the index number\n",
    "\n",
    "### Change a Range of Item Values\n",
    "> To change the value of items within a specific range, define a list with the new values, and refer to the range of index numbers where you want to insert the new values\n"
   ]
  },
  {
   "cell_type": "code",
   "execution_count": 3,
   "id": "f7b9d1bd-daaf-4eb9-abd2-e6f34f000a6b",
   "metadata": {},
   "outputs": [
    {
     "name": "stdout",
     "output_type": "stream",
     "text": [
      "['apple', 'banana', 'cherry']\n",
      "['apple', 'kiwi', 'cherry']\n",
      "[1, 5, 7, 9, 3]\n",
      "[1, 'kiwi', 'oranges', 'mango', 9, 3]\n"
     ]
    }
   ],
   "source": [
    "print(my_list1)\n",
    "my_list1[1] = \"kiwi\"\n",
    "print(my_list1)\n",
    "\n",
    "print(my_list2)\n",
    "my_list2[1:3] = [\"kiwi\", \"oranges\", \"mango\"]\n",
    "print(my_list2)"
   ]
  },
  {
   "cell_type": "markdown",
   "id": "4b096af8-9a3d-4175-a9bd-da9f01f3c7d5",
   "metadata": {},
   "source": [
    "## Add List Item\n",
    "\n",
    "### .append()\n",
    "> Adds an element at the end of the list\n",
    "\n",
    "### .insert()\n",
    "> Adds an element at the specified position\n",
    "\n",
    "### .extend()\n",
    "> Add the elements of a list (or any iterable), to the end of the current list"
   ]
  },
  {
   "cell_type": "code",
   "execution_count": 4,
   "id": "485a9b2a-8464-4cba-81b3-84cc9ccba390",
   "metadata": {},
   "outputs": [
    {
     "name": "stdout",
     "output_type": "stream",
     "text": [
      "Here is the Lsit: ['apple', 'kiwi', 'cherry']\n",
      "____________________________________________________________________________________________________\n",
      "Appended List: ['apple', 'kiwi', 'cherry', 'Mango']\n",
      "____________________________________________________________________________________________________\n",
      "Interted List: ['apple', 'kiwi', 'cherry', 'Grapes', 'Mango']\n",
      "____________________________________________________________________________________________________\n",
      "Extended List: ['apple', 'kiwi', 'cherry', 'Grapes', 'Mango', 1, 'kiwi', 'oranges', 'mango', 9, 3]\n",
      "____________________________________________________________________________________________________\n",
      "Extended List: [1, 'kiwi', 'oranges', 'mango', 9, 3, 'kiwi', 'orange']\n",
      "____________________________________________________________________________________________________\n"
     ]
    }
   ],
   "source": [
    "print(f\"Here is the Lsit: {my_list1}\")\n",
    "print('_'*100)\n",
    "\n",
    "my_list1.append(\"Mango\")\n",
    "print(f\"Appended List: {my_list1}\")\n",
    "\n",
    "print('_'*100)\n",
    "\n",
    "my_list1.insert(3, \"Grapes\")\n",
    "print(f\"Interted List: {my_list1}\")\n",
    "print('_'*100)\n",
    "\n",
    "my_list1.extend(my_list2)\n",
    "print(f\"Extended List: {my_list1}\")\n",
    "print('_'*100)\n",
    "\n",
    "# Can also extend Tuple\n",
    "my_list2.extend(my_tuple)\n",
    "print(f\"Extended List: {my_list2}\")\n",
    "print('_'*100)\n"
   ]
  },
  {
   "cell_type": "markdown",
   "id": "a30e478c-80fb-475d-b9e1-dab291cb20cd",
   "metadata": {},
   "source": [
    "## Remove List Items\n",
    "\n",
    "### .remove()\n",
    "> The remove() method removes the specified item.\n",
    "\n",
    "### .pop()\n",
    "> The pop() method removes the specified index.\n",
    "\n",
    "### del\n",
    "> The del keyword can also delete the list completely.\n",
    "\n",
    "### .clear()\n",
    "> The clear() method empties the list.The list still remains, but it has no content."
   ]
  },
  {
   "cell_type": "code",
   "execution_count": 5,
   "id": "a28ba147-eec9-4524-a478-e0a554bc97a0",
   "metadata": {},
   "outputs": [
    {
     "name": "stdout",
     "output_type": "stream",
     "text": [
      "['apple', 'kiwi', 'cherry', 'Grapes', 'Mango', 1, 'kiwi', 'oranges', 'mango', 9, 3]\n",
      "____________________________________________________________________________________________________\n",
      "['apple', 'cherry', 'Grapes', 'Mango', 1, 'kiwi', 'oranges', 'mango', 9, 3]\n",
      "['apple', 'cherry', 'Grapes', 'Mango', 1, 'kiwi', 'oranges', 'mango', 9]\n",
      "['apple', 'cherry', 'Mango', 1, 'kiwi', 'oranges', 'mango', 9]\n",
      "['apple', 'cherry', 'Mango', 1, 'kiwi', 'oranges', 'mango', 9]\n",
      "[1, 'kiwi', 'oranges', 'mango', 9, 3, 'kiwi', 'orange']\n",
      "[]\n"
     ]
    }
   ],
   "source": [
    "print(my_list1)\n",
    "print('_'*100)\n",
    "\n",
    "my_list1.remove(\"kiwi\") # Only removes first found element\n",
    "print(my_list1)\n",
    "\n",
    "my_list1.pop() # Removes last element\n",
    "print(my_list1)\n",
    "\n",
    "my_list1.pop(2) # Removes element index 2\n",
    "print(my_list1)\n",
    "\n",
    "toDeleteList = list(my_list1)\n",
    "print(toDeleteList)\n",
    "del toDeleteList\n",
    "# print(toDeleteList) # Throws an error saying list not defined\n",
    "\n",
    "toClearList = list(my_list2)\n",
    "print(toClearList)\n",
    "toClearList.clear() # Returns Empty List\n",
    "print(toClearList)\n"
   ]
  },
  {
   "cell_type": "markdown",
   "id": "d56a708b-1079-410d-9603-820ff150c12c",
   "metadata": {},
   "source": [
    "## Loop Lists\n",
    "\n",
    "> for loop,\n",
    "> for loop using index,\n",
    "> while loop,\n",
    "> List Comprehension"
   ]
  },
  {
   "cell_type": "code",
   "execution_count": 6,
   "id": "8600d143-2410-4183-b924-590e88a22171",
   "metadata": {},
   "outputs": [
    {
     "name": "stdout",
     "output_type": "stream",
     "text": [
      "List: {my_list1}\n",
      "Loop-for\n",
      "apple\n",
      "cherry\n",
      "Mango\n",
      "1\n",
      "kiwi\n",
      "oranges\n",
      "mango\n",
      "9\n",
      "____________________________________________________________________________________________________\n",
      "Loop-for using index\n",
      "1: apple\n",
      "2: cherry\n",
      "3: Mango\n",
      "4: 1\n",
      "5: kiwi\n",
      "6: oranges\n",
      "7: mango\n",
      "8: 9\n",
      "____________________________________________________________________________________________________\n",
      "Using while loop\n",
      "apple\n",
      "cherry\n",
      "Mango\n",
      "1\n",
      "kiwi\n",
      "oranges\n",
      "mango\n",
      "9\n"
     ]
    }
   ],
   "source": [
    "print(\"List: {my_list1}\")\n",
    "\n",
    "# for loop\n",
    "print(\"Loop-for\")\n",
    "for x in my_list1:\n",
    "    print(x)\n",
    "print('_'*100)\n",
    "\n",
    "# for using index\n",
    "print(\"Loop-for using index\")\n",
    "for i in range(len(my_list1)):\n",
    "    print(f\"{i+1}: {my_list1[i]}\")\n",
    "print('_'*100)\n",
    "\n",
    "# while loop\n",
    "print(\"Using while loop\")\n",
    "\n",
    "i = 0\n",
    "\n",
    "while i < len(my_list1):\n",
    "    print(my_list1[i])\n",
    "    i+=1"
   ]
  },
  {
   "cell_type": "markdown",
   "id": "af2bc63e-0742-448d-9e0a-b41c1523b7fa",
   "metadata": {},
   "source": [
    "### List Comprehension\n",
    "> List comprehension offers a shorter syntax when you want to create a new list based on the values of an existing list.<br>\n",
    "> newlist = [expression for item in iterable if condition == True]"
   ]
  },
  {
   "cell_type": "code",
   "execution_count": 7,
   "id": "38365d87-4775-42d6-8419-13d8f56a25a4",
   "metadata": {},
   "outputs": [
    {
     "name": "stdout",
     "output_type": "stream",
     "text": [
      "['apple', 'cherry', 'Mango', 1, 'kiwi', 'oranges', 'mango', 9]\n",
      "['apple', 'Mango', 'oranges', 'mango']\n",
      "['apple', 'Mango', 'oranges', 'mango']\n",
      "['apple', 'cherry', 'Mango', 1, 'kiwi', 'oranges', 9]\n"
     ]
    }
   ],
   "source": [
    "# Traditional Way:\n",
    "print(my_list1)\n",
    "newList = []\n",
    "for x in my_list1:\n",
    "    if \"a\" in str(x):\n",
    "        newList.append(x)\n",
    "print(newList)\n",
    "\n",
    "# Using List Comprehension:\n",
    "new_list = [x for x in my_list1 if \"a\" in str(x)]\n",
    "print(new_list)\n",
    "\n",
    "#\n",
    "no_mango = [x for x in my_list1 if x != \"mango\"]\n",
    "print(no_mango)\n",
    "        "
   ]
  },
  {
   "cell_type": "markdown",
   "id": "e3b16daa-c5de-4a79-af68-7522f2500108",
   "metadata": {},
   "source": [
    "## Sort Lists\n",
    "\n",
    "> Sort List Alphanumerically\n",
    ".sort()<br>\n",
    "By default the sort() method is case sensitive, resulting in all capital letters being sorted before lower case letters.\n",
    "\n",
    "\n",
    "> Sort List Descending\n",
    ".sort(reverse = True)<br>\n",
    "> .reverse()"
   ]
  },
  {
   "cell_type": "code",
   "execution_count": 8,
   "id": "1fe7c109-d350-4e70-bff9-ebce84ac4271",
   "metadata": {},
   "outputs": [
    {
     "name": "stdout",
     "output_type": "stream",
     "text": [
      "Unsorted List: ['apple', 'cherry', 'Mango', 'kiwi', 'oranges', 'mango']\n",
      "Sorted List: ['Mango', 'apple', 'cherry', 'kiwi', 'mango', 'oranges']\n",
      "Sorted List: ['apple', 'cherry', 'kiwi', 'Mango', 'mango', 'oranges']\n",
      "Unsorted Num List: [45, 23, 7, 10, 1, 64, 87, 8]\n",
      "Sorted Reverse Num List: [87, 64, 45, 23, 10, 8, 7, 1]\n",
      "Sorted Num List: [1, 7, 8, 10, 23, 45, 64, 87]\n",
      "Sorted Reverse Num List using .reverse: [87, 64, 45, 23, 10, 8, 7, 1]\n"
     ]
    }
   ],
   "source": [
    "unsort_list = [x for x in my_list1 if str == type(x)]\n",
    "print(f\"Unsorted List: {unsort_list}\")\n",
    "num_list = [45, 23, 7, 10, 1, 64, 87, 8]\n",
    "# Sort\n",
    "sorted_list1 = unsort_list.sort()\n",
    "print(f\"Sorted List: {unsort_list}\")\n",
    "\n",
    "\n",
    "sorted_list1 = unsort_list.sort(key = str.lower)\n",
    "print(f\"Sorted List: {unsort_list}\")\n",
    "\n",
    "# sorting numbers\n",
    "print(f\"Unsorted Num List: {num_list}\")\n",
    "num_list.sort(reverse=True)\n",
    "print(f\"Sorted Reverse Num List: {num_list}\")\n",
    "num_list.sort()\n",
    "print(f\"Sorted Num List: {num_list}\")\n",
    "num_list.reverse()\n",
    "print(f\"Sorted Reverse Num List using .reverse: {num_list}\")"
   ]
  },
  {
   "cell_type": "markdown",
   "id": "f0cc408c-ba3f-463c-b1a2-972f58ab26af",
   "metadata": {},
   "source": [
    "### Copy Lists\n",
    "You cannot copy a list simply by typing list2 = list1, because: list2 will only be a reference to list1, and changes made in list1 will automatically also be made in list2"
   ]
  },
  {
   "cell_type": "code",
   "execution_count": 9,
   "id": "79ef36a6-0691-4db8-8785-09a2aedfcb02",
   "metadata": {},
   "outputs": [
    {
     "name": "stdout",
     "output_type": "stream",
     "text": [
      "['apple', 'cherry', 'Mango', 1, 'kiwi', 'oranges', 'mango', 9]\n",
      "True\n",
      "['apple', 'cherry', 'Mango', 1, 'kiwi', 'oranges', 'mango', 9]\n",
      "True\n",
      "['apple', 'cherry', 'Mango', 1, 'kiwi', 'oranges', 'mango', 9]\n",
      "True\n"
     ]
    }
   ],
   "source": [
    "# Copy using builtin list method\n",
    "copy_list1 = list(my_list1)\n",
    "print(copy_list1)\n",
    "print(my_list1 == copy_list1)\n",
    "\n",
    "# Copy using builtin copy\n",
    "copy_list2 = my_list1.copy()\n",
    "print(copy_list2)\n",
    "print(copy_list2 == copy_list1)\n",
    "\n",
    "# Using slice operator\n",
    "copy_list3 = my_list1[:]\n",
    "print(copy_list3)\n",
    "print(copy_list2 == copy_list1 == copy_list3)\n",
    "\n"
   ]
  }
 ],
 "metadata": {
  "kernelspec": {
   "display_name": "Python 3 (ipykernel)",
   "language": "python",
   "name": "python3"
  },
  "language_info": {
   "codemirror_mode": {
    "name": "ipython",
    "version": 3
   },
   "file_extension": ".py",
   "mimetype": "text/x-python",
   "name": "python",
   "nbconvert_exporter": "python",
   "pygments_lexer": "ipython3",
   "version": "3.12.7"
  }
 },
 "nbformat": 4,
 "nbformat_minor": 5
}
