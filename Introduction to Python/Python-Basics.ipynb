{
 "cells": [
  {
   "cell_type": "markdown",
   "id": "b570dfda-e247-40a4-8de0-ded7ef67636b",
   "metadata": {},
   "source": [
    "# Python Basics"
   ]
  },
  {
   "cell_type": "markdown",
   "id": "d662ebab-7bdc-44a1-a0c0-cc0ff24b9710",
   "metadata": {},
   "source": [
    "## Comment in Python"
   ]
  },
  {
   "cell_type": "code",
   "execution_count": 30,
   "id": "174ce5e5-aba6-478d-bae1-724b0d2bf8c2",
   "metadata": {},
   "outputs": [
    {
     "data": {
      "text/plain": [
       "'\\nMulti\\nLine\\nComment\\n'"
      ]
     },
     "execution_count": 30,
     "metadata": {},
     "output_type": "execute_result"
    }
   ],
   "source": [
    "# Single Line Comment\n",
    "\n",
    "'''\n",
    "Multi\n",
    "Line\n",
    "Comment\n",
    "'''"
   ]
  },
  {
   "cell_type": "markdown",
   "id": "06c500b4-6163-4131-930e-5332418ccd48",
   "metadata": {},
   "source": [
    "# Identifier:\n",
    "> A Python Identifier is a name used to identify a variable, function, class, module or another object\n",
    "> An identifier starts with a letter A to Z or a to z or an underscore (_) followed by zero or more letters,underscores, and digits (0 to 9)\n",
    "> Python is a case-sensitive programming language\n",
    "> Python does not allow special characters such as @, $, and % within identifiers\n",
    "\n",
    "## Types:\n",
    "### Class\n",
    "### Single Underscore (_): \n",
    "> The single underscore in Python _ is used to either make a variable different from a Python keyword such as in float_=8, or to indicate that it should be used in a private context such as in _var=8\n",
    "### Double Underscore (__): __name\n",
    "> The double underscore in Python \"__\" (called “dunder“) is used to make an instance attribute or method private that cannot be accessed from outside the class) when used as a leading dunder prefix. When used as enclosing dunder such as in \"__init__\", it indicates that it is a special method in Python called “magic method”"
   ]
  },
  {
   "cell_type": "markdown",
   "id": "e748d526-f608-464e-867f-77df853c276f",
   "metadata": {},
   "source": [
    "# Variables in Python:\n",
    "\n",
    "> Variables are nothing but reserved memory locations to store values. This means that when you\n",
    "create a variable you reserve some space in memory."
   ]
  },
  {
   "cell_type": "code",
   "execution_count": 31,
   "id": "d2a9d98f-85a8-43d6-8f08-2c31f2d33552",
   "metadata": {},
   "outputs": [
    {
     "name": "stdout",
     "output_type": "stream",
     "text": [
      "John\n",
      "<class 'str'>\n",
      "25\n",
      "<class 'int'>\n",
      "45.5\n",
      "<class 'float'>\n",
      "John 25 45.5\n"
     ]
    }
   ],
   "source": [
    "name = 'John'\n",
    "age = 25\n",
    "salary = 45.50\n",
    "print(name)\n",
    "print(type(name))\n",
    "print(age)\n",
    "print(type(age))\n",
    "print(salary)\n",
    "print(type(salary))\n",
    "\n",
    "print(name, age, salary)"
   ]
  },
  {
   "cell_type": "markdown",
   "id": "1549926f-7f90-48b2-8797-76a52049f827",
   "metadata": {},
   "source": [
    "# Data Types:\n",
    " > ## Immutable Data Types: Values can't be changed\n",
    "        >> ### Numeric, String, Tuples\n",
    " > ## Mutable Data Types: Values can be changed\n",
    "        >> ### Lists, Dictionaries, Sets\n",
    "\n",
    "## Python Collections (Arrays)\r\n",
    "\r\n",
    "There are four collection data types in the Python programming language:\r\n",
    "\r\n",
    "    List is a collection which is ordered and changeable. Allows duplicate members.\r\n",
    "    Tuple is a collection which is ordered and unchangeable. Allows duplicate members.\r\n",
    "    Set is a collection which is unordered, unchangeable*, and unindexed. No duplicate members.\r\n",
    "    Dictionary is a collection which is ordered** and changeable. No duplicate members.\r\n"
   ]
  },
  {
   "cell_type": "markdown",
   "id": "41ee9af1-b3d9-4f43-a055-0d68abff70df",
   "metadata": {},
   "source": [
    "# Immutable Data Types:"
   ]
  },
  {
   "cell_type": "markdown",
   "id": "5003a294-e776-44d4-9868-35449a86c52a",
   "metadata": {},
   "source": [
    "##Numeric Data Types:\n",
    "> int, float, complex"
   ]
  },
  {
   "cell_type": "code",
   "execution_count": 32,
   "id": "7a26c941-42ee-415a-af5a-549b212063c3",
   "metadata": {},
   "outputs": [
    {
     "name": "stdout",
     "output_type": "stream",
     "text": [
      "10 10.65 (10+6j)\n"
     ]
    }
   ],
   "source": [
    "a = 10\n",
    "b = 10.65\n",
    "c = 10+6j\n",
    "\n",
    "print(a,b,c)"
   ]
  },
  {
   "cell_type": "markdown",
   "id": "bef57957-1beb-40c4-8de5-8edbdf6e4c4b",
   "metadata": {},
   "source": [
    "## String Data Type:\n",
    "> The continuous set of characters represented within quotation is called as String.<br>\n",
    "> Python allows for either pairs of single or double quotes.<br>\n",
    "> Python does not support a character type, these are treated as strings of length one."
   ]
  },
  {
   "cell_type": "code",
   "execution_count": 33,
   "id": "e193adf1-e293-473d-a3cd-a9920ab3983c",
   "metadata": {},
   "outputs": [
    {
     "name": "stdout",
     "output_type": "stream",
     "text": [
      "Hello Snakes!\n",
      "Python Here\n"
     ]
    }
   ],
   "source": [
    "a = 'Hello Snakes!'\n",
    "b = \"Python Here\"\n",
    "print (a)\n",
    "print (b)"
   ]
  },
  {
   "cell_type": "markdown",
   "id": "9887ea58-ad24-41ec-8a31-e1210c09b1b0",
   "metadata": {},
   "source": [
    "## String Formatting\n",
    "> F-String was introduced in Python 3.6, and is now the preferred way of formatting strings.Before Python 3.6 we had to use the format() method."
   ]
  },
  {
   "cell_type": "code",
   "execution_count": 9,
   "id": "0bac22a0-233f-45b0-9b1b-0febddd6505c",
   "metadata": {},
   "outputs": [
    {
     "name": "stdout",
     "output_type": "stream",
     "text": [
      "Cost of the product is $50\n",
      "Cost of the product is $50\n",
      "Cost of item: 109 is $50\n",
      "Cost of the product is $50\n",
      "Cost of item: 109 is $50\n"
     ]
    }
   ],
   "source": [
    "cost = 50\n",
    "itemNo = 109\n",
    "text2 = \"Cost of item: {} is ${}\"\n",
    "\n",
    "# without f string\n",
    "print(\"Cost of the product is $50\")\n",
    "\n",
    "# using f string\n",
    "print(f\"Cost of the product is ${cost}\")\n",
    "text2 = f\"Cost of item: {itemNo} is ${cost}\"\n",
    "print(text2)\n",
    "\n",
    "\n",
    "# Before Python 3.6 version\n",
    "text = \"Cost of the product is ${}\"\n",
    "print(text.format(cost))\n",
    "\n",
    "\n",
    "print(text2.format(itemNo, cost))"
   ]
  },
  {
   "cell_type": "markdown",
   "id": "39ac67aa-4a43-418e-88a9-a95390b1bdf4",
   "metadata": {},
   "source": [
    "## Tuples Data Type:\n",
    ">Tuples consist of a number of values separated by a comma. It is enclosed within the parenthesis. They can have different data types."
   ]
  },
  {
   "cell_type": "code",
   "execution_count": 34,
   "id": "f5c1e382-41a1-43fc-8651-932e2d1e612d",
   "metadata": {},
   "outputs": [
    {
     "name": "stdout",
     "output_type": "stream",
     "text": [
      "(1, 8, 3.15, 'Python', 'Cobra')\n"
     ]
    }
   ],
   "source": [
    "a = (1,8, 3.15, \"Python\", 'Cobra')\n",
    "print(a)"
   ]
  },
  {
   "cell_type": "markdown",
   "id": "2a023022-6846-4354-bbf7-37d71db492e7",
   "metadata": {},
   "source": [
    "# Mutable Data Types:"
   ]
  },
  {
   "cell_type": "markdown",
   "id": "15d9bf1e-4b49-480e-aede-86ac6b3f9cd0",
   "metadata": {},
   "source": [
    "## Lists:\n",
    "> Lists is an ordered set of data/elements or collection of data/elements enclosed within square brackets [].<br>\n",
    "> List items are ordered, changeable, and allow duplicate values"
   ]
  },
  {
   "cell_type": "code",
   "execution_count": 35,
   "id": "282f2ad2-60bd-4c8f-af57-3f050a64a964",
   "metadata": {},
   "outputs": [
    {
     "name": "stdout",
     "output_type": "stream",
     "text": [
      "[1, 0.9, 'Python', True, 'Mutable', False, 15]\n",
      "<class 'list'>\n",
      "7\n",
      "Python\n"
     ]
    }
   ],
   "source": [
    "myList = [1, 0.9, \"Python\", True, 'Mutable', False, 7+8]\n",
    "print(myList)\n",
    "print(type(myList))\n",
    "print(len(myList))\n",
    "print(myList[2])"
   ]
  },
  {
   "cell_type": "markdown",
   "id": "6ac8115f-48d5-4180-9b89-231c2e73f480",
   "metadata": {},
   "source": [
    "# Dictionaries:\n",
    "\n",
    "> Dictionaries are used to store data values in key:value pairs. <br>\n",
    "> A dictionary is a collection which is ordered, changeable and do not allow duplicates. <br>\n",
    "> Each key is seperated from it's value by : and enclosed in curly brackets {}.\n"
   ]
  },
  {
   "cell_type": "code",
   "execution_count": 36,
   "id": "2f06b573-3713-4e2b-aed1-4d1688416991",
   "metadata": {},
   "outputs": [
    {
     "name": "stdout",
     "output_type": "stream",
     "text": [
      "{'Language': 'Python', 'Ide': 'Jupyter', 'Year': 2024, 'Days': ['Saturday', 'Sunday']}\n",
      "<class 'dict'>\n",
      "4\n",
      "Python\n",
      "['Saturday', 'Sunday']\n"
     ]
    }
   ],
   "source": [
    "myDict = {\n",
    "    \"Language\": \"Python\",\n",
    "    \"Ide\": \"Jupyter\",\n",
    "    \"Year\": 2024,\n",
    "    \"Days\": ['Saturday', 'Sunday']\n",
    "}\n",
    "\n",
    "print(myDict)\n",
    "print(type(myDict))\n",
    "print(len(myDict))\n",
    "print(myDict[\"Language\"])\n",
    "print(myDict[\"Days\"])"
   ]
  },
  {
   "cell_type": "markdown",
   "id": "10f3ad67-f0a7-4376-abf5-b5c445b275f6",
   "metadata": {},
   "source": [
    "# Sets:\n",
    "> A set is an unordered collection of items. Every element is unique.<br>\n",
    "> A set is created by placing all the elements inside curly brackets seperated by comma.<br>\n",
    "> A set is a collection which is unordered, unchangeable*, and unindexed."
   ]
  },
  {
   "cell_type": "code",
   "execution_count": 37,
   "id": "e6d08e95-3fbf-43fe-b05a-011e18e5310d",
   "metadata": {},
   "outputs": [
    {
     "name": "stdout",
     "output_type": "stream",
     "text": [
      "{'apple', 'banana', 'cherry'}\n",
      "<class 'set'>\n",
      "{False, True, 'apple', 'banana', 'cherry'}\n",
      "<class 'set'>\n"
     ]
    }
   ],
   "source": [
    "mySet = {\"apple\", \"banana\", \"cherry\", \"apple\"}\n",
    "\n",
    "yourSet = {\"apple\", \"banana\", \"cherry\", False, True, 0, 1}\n",
    "\n",
    "print(mySet)\n",
    "print(type(mySet))\n",
    "\n",
    "print(yourSet)\n",
    "print(type(yourSet))"
   ]
  },
  {
   "cell_type": "markdown",
   "id": "ba463487-3af9-48db-b656-29c8e2490a9e",
   "metadata": {},
   "source": [
    "# Operators\n",
    "Operators are used to perform operations on variables and values."
   ]
  },
  {
   "cell_type": "markdown",
   "id": "8206ce17-9442-498e-929e-64deeb07dfee",
   "metadata": {},
   "source": [
    "## Arithmetic operators\n",
    "    Addition:        +\n",
    "    Subtraction:     -\n",
    "    Multiplication:  *\n",
    "    Division:        / \n",
    "    Modulus:         %   (remainder)\n",
    "    Exponentiation:  **\n",
    "    Floor division:  //  (rounds the result down to the nearest whole number)"
   ]
  },
  {
   "cell_type": "code",
   "execution_count": 38,
   "id": "81f55e16-4ee6-4144-ab02-9228ef12a741",
   "metadata": {},
   "outputs": [
    {
     "name": "stdout",
     "output_type": "stream",
     "text": [
      "Addition: a + b =  58\n",
      "Subtraction: a - b =  42\n",
      "Multiplication: a * b =  400\n",
      "Division: a / b =  6.25\n",
      "Modulus: a % b =  2\n",
      "Exponentiation: a ** b =  39062500000000\n",
      "Floor division: a // b =  6\n"
     ]
    }
   ],
   "source": [
    "a = 50\n",
    "b = 8\n",
    "\n",
    "# Addition\n",
    "print(\"Addition: a + b = \", a+b)\n",
    "\n",
    "# Subtraction\n",
    "print(\"Subtraction: a - b = \", a-b)\n",
    "\n",
    "# Multiplication\n",
    "print(\"Multiplication: a * b = \", a*b)\n",
    "\n",
    "# Division\n",
    "print(\"Division: a / b = \", a/b)\n",
    "\n",
    "# Modulus\n",
    "print(\"Modulus: a % b = \", a%b)\n",
    "\n",
    "# Exponentiation\n",
    "print(\"Exponentiation: a ** b = \", a**b)\n",
    "\n",
    "# Floor division\n",
    "print(\"Floor division: a // b = \", a//b)"
   ]
  },
  {
   "cell_type": "markdown",
   "id": "6baefc34-ba14-44e2-aa1f-f92c19450351",
   "metadata": {},
   "source": [
    "## Assignment Operators:\n",
    "    Assigns values from right to left<br>\n",
    "    =   :    x = 5\n",
    "    +=  :    x += 3\n",
    "    -=  :    x -= 3\n",
    "    *=  :    x *= 3\n",
    "    /=  :    x /= 3\n",
    "    %=  :    x %= 3\n",
    "    //= :    x //= 3\n",
    "    **= :    x **= 3\n",
    "    &=  :    x &= 3\n",
    "    |=  :    x |= 3\n",
    "    ^=  :    x ^= 3\n",
    "    >>= :    x >>= 3\n",
    "    <<= :    x <<= 3\n",
    "    :=  :    print(x := 3)"
   ]
  },
  {
   "cell_type": "code",
   "execution_count": 47,
   "id": "98e54b08-7c23-442e-bc24-ac162bd98bb1",
   "metadata": {},
   "outputs": [
    {
     "name": "stdout",
     "output_type": "stream",
     "text": [
      "x = 5:  5\n",
      "x += 3:  8\n",
      "x -= 3:  2\n",
      "x *= 3:  15\n",
      "x /= 3:  1.6666666666666667\n",
      "x %= 3:  2\n",
      "x //= 3:  1\n",
      " x **= 3:  125\n",
      "x &= 3 1\n",
      "x |= 3 7\n",
      "x ^= 3:  6\n",
      "x >>= 3 0\n",
      "x <<= 3:  40\n",
      "print(x := 3):  3\n"
     ]
    }
   ],
   "source": [
    "x = 5\n",
    "print(\"x = 5: \", x)\n",
    "\n",
    "\n",
    "x += 3\n",
    "print(\"x += 3: \", x)\n",
    "\n",
    "x = 5\n",
    "x -= 3\n",
    "print(\"x -= 3: \", x)\n",
    "\n",
    "x = 5\n",
    "x *= 3\n",
    "print(\"x *= 3: \", x)\n",
    "\n",
    "x = 5\n",
    "x /= 3\n",
    "print(\"x /= 3: \", x)\n",
    "\n",
    "x = 5\n",
    "x  %= 3\n",
    "print(\"x %= 3: \", x)\n",
    "\n",
    "x = 5\n",
    "x  //= 3\n",
    "print(\"x //= 3: \", x)\n",
    "\n",
    "x = 5\n",
    "x   **= 3\n",
    "print(\" x **= 3: \",  x)\n",
    "\n",
    "x = 5\n",
    "x  &= 3\n",
    "print(\"x &= 3\", x)\n",
    "\n",
    "x = 5\n",
    "x  |= 3\n",
    "print(\"x |= 3\", x)\n",
    "\n",
    "x = 5\n",
    "x ^= 3\n",
    "print(\"x ^= 3: \", x)\n",
    "\n",
    "x = 5\n",
    "x  >>= 3\n",
    "print(\"x >>= 3\", x)\n",
    "\n",
    "x = 5\n",
    "x <<= 3\n",
    "print(\"x <<= 3: \", x)\n",
    "\n",
    "x = 5 \n",
    "print(\"print(x := 3): \", x := 3)"
   ]
  },
  {
   "cell_type": "markdown",
   "id": "008fae7b-0d19-456f-95b4-870345381026",
   "metadata": {},
   "source": [
    "## Comparison Operators\n",
    "\n",
    "    == \tEqual\n",
    "    !=\tNot equal\n",
    "    >\tGreater than\n",
    "    <\tLess than\n",
    "    >=\tGreater than or equal to\n",
    "    <=\tLess than or equal to\n"
   ]
  },
  {
   "cell_type": "code",
   "execution_count": 48,
   "id": "744f21b4-93a7-4364-a28d-13163a3b9ad2",
   "metadata": {},
   "outputs": [
    {
     "name": "stdout",
     "output_type": "stream",
     "text": [
      "== :  False\n",
      "!= :  True\n",
      "> :  False\n",
      "< :  True\n",
      ">= :  False\n",
      "<= :  True\n"
     ]
    }
   ],
   "source": [
    "x = 50\n",
    "y = 100\n",
    "\n",
    "print(\"== : \", x == y)\n",
    "print(\"!= : \", x != y)\n",
    "print(\"> : \", x > y)\n",
    "print(\"< : \", x < y)\n",
    "print(\">= : \", x >= y)\n",
    "print(\"<= : \", x <= y)"
   ]
  },
  {
   "cell_type": "markdown",
   "id": "9b08c292-4985-4a8d-b918-7f2473b738af",
   "metadata": {},
   "source": [
    "## Logical Operators: \n",
    "\n",
    "Logical operators are used to combine conditional statements:\n",
    "\n",
    "    and  \tReturns True if both statements are true \t               x < 5 and  x < 10 \t\n",
    "    or\t    Returns True if one of the statements is true\t           x < 5 or x < 4\t\n",
    "    not\t    Reverse the result, returns False if the result is true\t   not(x < 5 and x < 10)\t\n"
   ]
  },
  {
   "cell_type": "code",
   "execution_count": 50,
   "id": "6d398e19-ff40-4113-80c4-439149ee849b",
   "metadata": {},
   "outputs": [
    {
     "name": "stdout",
     "output_type": "stream",
     "text": [
      "and operator:  True\n",
      "or operator:  False\n",
      "not operator:  True\n"
     ]
    }
   ],
   "source": [
    "x = 5\n",
    "\n",
    "print(\"and operator: \", x > 3 and x < 10)\n",
    "print(\"or operator: \", x < 5 or x < 4)\n",
    "print(\"not operator: \", not(x < 5 and x < 10))"
   ]
  },
  {
   "cell_type": "markdown",
   "id": "22f61981-505a-4da9-bdfd-ddcc881c6b03",
   "metadata": {},
   "source": [
    "## Bitwise Operators:\n",
    "Bitwise operators are used to compare (binary) numbers:\n",
    "\n",
    "    &  \tAND \tSets each bit to 1 if both bits are 1 \tx & y\n",
    "    | \tOR \tSets each bit to 1 if one of two bits is 1 \tx | y\n",
    "    ^ \tXOR \tSets each bit to 1 if only one of two bits is 1 \tx ^ y\n",
    "    ~ \tNOT \tInverts all the bits \t~x\n",
    "    << \tZero fill left shift \tShift left by pushing zeros in from the right and let the leftmost bits fall off \tx << 2\n",
    "    >> \tSigned right shift \tShift right by pushing copies of the leftmost bit in from the left, and let the rightmost bits fall off \tx >> 2\n",
    "    "
   ]
  },
  {
   "cell_type": "markdown",
   "id": "c508c6b2-a2ed-441f-823e-d9876ae9993d",
   "metadata": {},
   "source": [
    "## Identity Operators:\n",
    "Identity operators are used to compare the objects, not if they are equal, but if they are actually the same object, with the same memory location.\n",
    "\n",
    "    is  \tReturns True if both variables are the same object \tx is y\n",
    "    is not \tReturns True if both variables are not the same object \tx is not y"
   ]
  },
  {
   "cell_type": "code",
   "execution_count": 56,
   "id": "ee12e72f-8cad-4443-804c-7b6cb0ee8873",
   "metadata": {},
   "outputs": [
    {
     "name": "stdout",
     "output_type": "stream",
     "text": [
      "True\n",
      "True\n",
      "False\n"
     ]
    }
   ],
   "source": [
    "x = [\"apple\", \"banana\"]\n",
    "y = [\"apple\", \"banana\"]\n",
    "z = x\n",
    "\n",
    "print(x is z)\n",
    "print(x is not y)\n",
    "print(x != y)"
   ]
  },
  {
   "cell_type": "markdown",
   "id": "8858d829-3681-4568-8623-09d4cad43977",
   "metadata": {},
   "source": [
    "## Membership Operators:\n",
    "Membership operators are used to test if a sequence is presented in an object.\n",
    "\n",
    "    in  \tReturns True if a sequence with the specified value is present in the object \tx in y\n",
    "    not in \tReturns True if a sequence with the specified value is not present in the object \tx not in y"
   ]
  },
  {
   "cell_type": "code",
   "execution_count": 57,
   "id": "79c35385-d35d-4d83-a067-e067159fa332",
   "metadata": {},
   "outputs": [
    {
     "name": "stdout",
     "output_type": "stream",
     "text": [
      "True\n",
      "True\n"
     ]
    }
   ],
   "source": [
    "x = [\"apple\", \"banana\"]\n",
    "\n",
    "print(\"apple\" in x)\n",
    "print(\"pineapple\" not in x)"
   ]
  },
  {
   "cell_type": "markdown",
   "id": "0335e45c-e9a3-4e38-adbd-837fc6da3db4",
   "metadata": {},
   "source": [
    "# Conditional Statements:\n",
    "Conditional statements are used to excecute a statement or group of statements when some condition is true.     "
   ]
  },
  {
   "cell_type": "markdown",
   "id": "1514155d-e186-4204-b6a8-95127cdcd164",
   "metadata": {},
   "source": [
    "## if-Else or if-elif-else Statements:\n",
    "\n",
    "    if condition1:\n",
    "        excecuteStatements1\n",
    "    elif condition2:\n",
    "        excecuteStatements2\n",
    "    else condition3:\n",
    "        excecuteStatements3"
   ]
  },
  {
   "cell_type": "code",
   "execution_count": 2,
   "id": "a1b1c022-5b2e-45cf-9257-9ed3d8607251",
   "metadata": {},
   "outputs": [
    {
     "name": "stdout",
     "output_type": "stream",
     "text": [
      "a and b are equal\n"
     ]
    }
   ],
   "source": [
    "a = 200\n",
    "b = 200\n",
    "if b > a:\n",
    "  print(\"b is greater than a\")\n",
    "elif a == b:\n",
    "  print(\"a and b are equal\")\n",
    "else:\n",
    "  print(\"a is greater than b\")"
   ]
  },
  {
   "cell_type": "markdown",
   "id": "f6486326-2149-4816-8f90-827e9fb7e813",
   "metadata": {},
   "source": [
    "# Loops\n",
    "A Loop statements allows us to excecute a statement or a group of statements multiple times\n",
    "\n",
    "Types of Loops:<br>\n",
    "    > while<br>\n",
    "    > for<br>\n",
    "    > nested<br>"
   ]
  },
  {
   "cell_type": "markdown",
   "id": "afcaae36-7f46-4e23-9a96-6cd792488b7e",
   "metadata": {},
   "source": [
    "## while loop:\n",
    "\n",
    "while loops are known as indefinite or conditional loops. They keep iterating until certain conditions are met.\n",
    "while loop can excecute a set of statements as long as the condition is true.\n",
    "\n",
    "\n",
    "while condition:<br>\n",
    "        excecuteStatements<br>"
   ]
  },
  {
   "cell_type": "code",
   "execution_count": 5,
   "id": "4c02b2ae-5248-481a-8f03-9f3feb28ba43",
   "metadata": {},
   "outputs": [
    {
     "name": "stdout",
     "output_type": "stream",
     "text": [
      "0\n",
      "2\n",
      "4\n",
      "6\n",
      "8\n",
      "Done!!!\n"
     ]
    }
   ],
   "source": [
    "count = 0\n",
    "\n",
    "while(count < 10):\n",
    "    print(count)\n",
    "    count += 2\n",
    "\n",
    "print('Done!!!')"
   ]
  },
  {
   "cell_type": "markdown",
   "id": "5bf9d6b3-e3f1-4ae0-b5ce-165ff08fe349",
   "metadata": {},
   "source": [
    "## for loop:\n",
    "\n",
    "for loop repeats a group of statements a specified number of times.\n",
    "\n",
    "\n",
    "for variable in range(booleanCondition, initialValue, incrementCount):<br>\n",
    "    statement1<br>\n",
    "    statement2<br>\n",
    "    statementn<br>\n",
    "\n",
    "range(start, stop, step)\n"
   ]
  },
  {
   "cell_type": "code",
   "execution_count": 31,
   "id": "34d4d98a-466d-420b-88b6-a9cc338390ac",
   "metadata": {},
   "outputs": [
    {
     "name": "stdout",
     "output_type": "stream",
     "text": [
      "apple\n",
      "banana\n",
      "cherry\n",
      "-------------------------\n",
      "b\n",
      "a\n",
      "n\n",
      "a\n",
      "n\n",
      "a\n",
      "5\n",
      "4\n",
      "3\n",
      "2\n",
      "1\n",
      "120\n",
      "1\n",
      "2\n",
      "3\n",
      "4\n",
      "5\n",
      "120\n"
     ]
    }
   ],
   "source": [
    "fruits = [\"apple\", \"banana\", \"cherry\"]\n",
    "for x in fruits:\n",
    "  print(x)\n",
    "\n",
    "print('-'*25)\n",
    "\n",
    "for x in \"banana\":\n",
    "  print(x)    "
   ]
  },
  {
   "cell_type": "code",
   "execution_count": 28,
   "id": "2fa2b58d-a558-4f5d-b53a-70f65e0c16a8",
   "metadata": {},
   "outputs": [
    {
     "name": "stdout",
     "output_type": "stream",
     "text": [
      "1\n",
      "3\n",
      "5\n",
      "7\n",
      "9\n",
      "$$$$$$$$$$$$$$$$$$$$$$$$$$$$$$$$$$$$$$$$$$$$$$$$$$\n",
      "10\n",
      "8\n",
      "6\n",
      "4\n",
      "2\n"
     ]
    }
   ],
   "source": [
    "n = 10\n",
    "\n",
    "for x in range(1, n+1, 2):\n",
    "    print(x)\n",
    "\n",
    "print('$'*50)\n",
    "\n",
    "for x in range(n, 0, -2):\n",
    "    print(x)"
   ]
  },
  {
   "cell_type": "code",
   "execution_count": 32,
   "id": "adbd7023-3631-48ac-b71e-72eba59aebb4",
   "metadata": {},
   "outputs": [
    {
     "name": "stdout",
     "output_type": "stream",
     "text": [
      "5\n",
      "4\n",
      "3\n",
      "2\n",
      "1\n",
      "120\n",
      "1\n",
      "2\n",
      "3\n",
      "4\n",
      "5\n",
      "Factorial of  5 ! is 120\n"
     ]
    }
   ],
   "source": [
    "# Factorial\n",
    "\n",
    "factorialOf = 5\n",
    "\n",
    "result = 1\n",
    "\n",
    "for n in range(factorialOf, 0, -1):\n",
    "    print(n)\n",
    "    result = result*n\n",
    "    \n",
    "print(result)\n",
    "\n",
    "# Factorial 2\n",
    "\n",
    "f = 5\n",
    "r = 1\n",
    "\n",
    "for m in range(1, f+1, 1):\n",
    "    print(m)\n",
    "    r *= m\n",
    "\n",
    "print(\"Factorial of \", f, \"! is\", r)"
   ]
  },
  {
   "cell_type": "markdown",
   "id": "3009c772-798a-477e-8ddb-b1653bff547d",
   "metadata": {},
   "source": [
    "## Nested Loops:\n",
    "\n",
    "Loop inside a loop"
   ]
  },
  {
   "cell_type": "code",
   "execution_count": 33,
   "id": "c2207592-336b-4e59-ac83-f402d10fa108",
   "metadata": {},
   "outputs": [
    {
     "name": "stdout",
     "output_type": "stream",
     "text": [
      "\n",
      "1\n",
      "22\n",
      "333\n",
      "4444\n",
      "55555\n",
      "666666\n",
      "7777777\n",
      "88888888\n",
      "999999999\n"
     ]
    }
   ],
   "source": [
    "count = 1\n",
    "\n",
    "for i in range(10):\n",
    "    print(str(i)*i)\n",
    "\n",
    "    for j in range(0, i):\n",
    "        count += 1"
   ]
  },
  {
   "cell_type": "markdown",
   "id": "89cf03ee-124e-47bd-82ab-83c7d5187f9e",
   "metadata": {},
   "source": [
    "## Loop Control Statements:\n",
    "\n",
    ">break: With the break statement we can stop the loop before it has looped through all the items<br>\n",
    ">continue: With the continue statement we can stop the current iteration of the loop, and continue with the next:<br>\n",
    ">pass: pass is used when the statement is required syntactically but no command or code to excecute<br>"
   ]
  },
  {
   "cell_type": "code",
   "execution_count": 37,
   "id": "ddeaf189-c885-4a5f-9064-90dc35df701f",
   "metadata": {},
   "outputs": [
    {
     "name": "stdout",
     "output_type": "stream",
     "text": [
      "1\n",
      "2\n",
      "3\n",
      "4\n",
      "5\n",
      "$$$$$$$$$$$$$$$$$$$$$$$$$$$$$$$$$$$$$$$$$$$$$$$$$$\n",
      "1\n",
      "2\n",
      "3\n",
      "4\n",
      "5\n",
      "7\n",
      "8\n",
      "9\n",
      "$$$$$$$$$$$$$$$$$$$$$$$$$$$$$$$$$$$$$$$$$$$$$$$$$$\n",
      "Pass\n",
      "Pass\n",
      "Pass\n",
      "Pass\n",
      "Passed\n"
     ]
    }
   ],
   "source": [
    "# break\n",
    "for i in range(1, 10):\n",
    "    if(i == 6):\n",
    "        break\n",
    "    print(i)\n",
    "\n",
    "print('$'*50)\n",
    "\n",
    "# continue\n",
    "for i in range(1, 10):\n",
    "    if(i == 6):\n",
    "        continue\n",
    "    print(i)\n",
    "\n",
    "print('$'*50)\n",
    "\n",
    "# pass\n",
    "\n",
    "for i in range(1,5):\n",
    "    print(\"Pass\")\n",
    "    pass\n",
    "    \n",
    "print(\"Passed\")"
   ]
  },
  {
   "cell_type": "code",
   "execution_count": null,
   "id": "f72aa7be-f3de-4922-8527-9754af9bf5d3",
   "metadata": {},
   "outputs": [],
   "source": []
  },
  {
   "cell_type": "code",
   "execution_count": null,
   "id": "5b9a5df2-d397-4a56-93ca-4601918c35a5",
   "metadata": {},
   "outputs": [],
   "source": []
  },
  {
   "cell_type": "code",
   "execution_count": null,
   "id": "c4af16ef-cd5c-418e-b664-ab2bcaebc742",
   "metadata": {},
   "outputs": [],
   "source": []
  }
 ],
 "metadata": {
  "kernelspec": {
   "display_name": "Python 3 (ipykernel)",
   "language": "python",
   "name": "python3"
  },
  "language_info": {
   "codemirror_mode": {
    "name": "ipython",
    "version": 3
   },
   "file_extension": ".py",
   "mimetype": "text/x-python",
   "name": "python",
   "nbconvert_exporter": "python",
   "pygments_lexer": "ipython3",
   "version": "3.12.7"
  }
 },
 "nbformat": 4,
 "nbformat_minor": 5
}
